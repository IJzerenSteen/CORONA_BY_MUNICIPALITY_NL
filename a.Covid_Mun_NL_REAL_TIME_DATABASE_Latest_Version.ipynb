{
 "cells": [
  {
   "cell_type": "markdown",
   "metadata": {},
   "source": [
    "# A STUDY ON COVID-19 CASES BY MUNICIPALITY IN THE NETHERLANDS  ON THE REALTIME RIVM.NL DATABASE (6/IV)"
   ]
  },
  {
   "cell_type": "code",
   "execution_count": 44,
   "metadata": {},
   "outputs": [],
   "source": [
    "#Importing the relevant libraries\n",
    "\n",
    "from bs4 import BeautifulSoup\n",
    "import requests\n",
    "import pandas as pd\n",
    "import numpy as np\n",
    "import matplotlib.pyplot as plt\n",
    "import seaborn as sns\n",
    "import time\n",
    "import requests\n",
    "from lxml import html\n",
    "%matplotlib inline\n"
   ]
  },
  {
   "cell_type": "markdown",
   "metadata": {},
   "source": [
    "## PART - I  TOTAL CASE & DEATH NUMBER VIA RIVM.NL / DATASET 1"
   ]
  },
  {
   "cell_type": "code",
   "execution_count": 45,
   "metadata": {},
   "outputs": [],
   "source": [
    "# Scrapping the data via BS4\n",
    "request_data1=requests.get('https://www.rivm.nl/coronavirus-kaart-van-nederland').text\n",
    "soup1 = BeautifulSoup(request_data1,'html.parser')\n",
    "#print(soup.prettify())"
   ]
  },
  {
   "cell_type": "code",
   "execution_count": 46,
   "metadata": {},
   "outputs": [],
   "source": [
    "#Scrapping the table from the raw data\n",
    "my_table1=soup1.find_all('table')"
   ]
  },
  {
   "cell_type": "code",
   "execution_count": 47,
   "metadata": {},
   "outputs": [
    {
     "data": {
      "text/html": [
       "<div>\n",
       "<style scoped>\n",
       "    .dataframe tbody tr th:only-of-type {\n",
       "        vertical-align: middle;\n",
       "    }\n",
       "\n",
       "    .dataframe tbody tr th {\n",
       "        vertical-align: top;\n",
       "    }\n",
       "\n",
       "    .dataframe thead th {\n",
       "        text-align: right;\n",
       "    }\n",
       "</style>\n",
       "<table border=\"1\" class=\"dataframe\">\n",
       "  <thead>\n",
       "    <tr style=\"text-align: right;\">\n",
       "      <th></th>\n",
       "      <th>0</th>\n",
       "      <th>1</th>\n",
       "    </tr>\n",
       "  </thead>\n",
       "  <tbody>\n",
       "    <tr>\n",
       "      <td>0</td>\n",
       "      <td>Positief geteste personen</td>\n",
       "      <td>18.803* (+952)</td>\n",
       "    </tr>\n",
       "    <tr>\n",
       "      <td>1</td>\n",
       "      <td>Ziekenhuisopnames</td>\n",
       "      <td>7.135 (+260)</td>\n",
       "    </tr>\n",
       "    <tr>\n",
       "      <td>2</td>\n",
       "      <td>Overleden personen</td>\n",
       "      <td>1.867** (+101)</td>\n",
       "    </tr>\n",
       "  </tbody>\n",
       "</table>\n",
       "</div>"
      ],
      "text/plain": [
       "                           0               1\n",
       "0  Positief geteste personen  18.803* (+952)\n",
       "1          Ziekenhuisopnames    7.135 (+260)\n",
       "2         Overleden personen  1.867** (+101)"
      ]
     },
     "execution_count": 47,
     "metadata": {},
     "output_type": "execute_result"
    }
   ],
   "source": [
    "#Setting a dataframe\n",
    "df1= pd.read_html(str(my_table1), index_col=False, header=None)[0]\n",
    "df1.head(15)"
   ]
  },
  {
   "cell_type": "code",
   "execution_count": 48,
   "metadata": {},
   "outputs": [
    {
     "data": {
      "text/html": [
       "<div>\n",
       "<style scoped>\n",
       "    .dataframe tbody tr th:only-of-type {\n",
       "        vertical-align: middle;\n",
       "    }\n",
       "\n",
       "    .dataframe tbody tr th {\n",
       "        vertical-align: top;\n",
       "    }\n",
       "\n",
       "    .dataframe thead th {\n",
       "        text-align: right;\n",
       "    }\n",
       "</style>\n",
       "<table border=\"1\" class=\"dataframe\">\n",
       "  <thead>\n",
       "    <tr style=\"text-align: right;\">\n",
       "      <th></th>\n",
       "      <th>People tested positive</th>\n",
       "      <th>Admitted to Hospital</th>\n",
       "      <th>Death</th>\n",
       "    </tr>\n",
       "  </thead>\n",
       "  <tbody>\n",
       "    <tr>\n",
       "      <td>1</td>\n",
       "      <td>18.803* (+952)</td>\n",
       "      <td>7.135 (+260)</td>\n",
       "      <td>1.867** (+101)</td>\n",
       "    </tr>\n",
       "  </tbody>\n",
       "</table>\n",
       "</div>"
      ],
      "text/plain": [
       "  People tested positive Admitted to Hospital           Death\n",
       "1         18.803* (+952)         7.135 (+260)  1.867** (+101)"
      ]
     },
     "execution_count": 48,
     "metadata": {},
     "output_type": "execute_result"
    }
   ],
   "source": [
    "#Data Wrangling \n",
    "df1=df1.T\n",
    "headers=[\"People tested positive\", \"Admitted to Hospital\", \"Death\"]\n",
    "df1.columns=headers\n",
    "df1.drop(df1.index[0], inplace=True)\n",
    "df1.head()\n",
    "\n",
    "#First row shows the current total numbers, the number between parantheses shows the daily increase per column. \n"
   ]
  },
  {
   "cell_type": "markdown",
   "metadata": {},
   "source": [
    "## PART-II NUMBERS OF CASES BY MUNICIPALITY VIA RIVM.NL / DATASET 2"
   ]
  },
  {
   "cell_type": "markdown",
   "metadata": {},
   "source": [
    "#### SCRAPING AND SAVING THE DATA AS CSV"
   ]
  },
  {
   "cell_type": "code",
   "execution_count": 49,
   "metadata": {},
   "outputs": [],
   "source": [
    "#Scraping dataset via request\n",
    "RIVM_URL = \"https://www.rivm.nl/coronavirus-kaart-van-nederland\"\n",
    "url = requests.get(RIVM_URL)\n",
    "web = html.fromstring(url.content)\n",
    "data = web.get_element_by_id(\"csvData\").text\n",
    "\n",
    "with open(\"dataset.csv\", \"w\", encoding=\"utf-8\") as f:\n",
    "    f.write(data)"
   ]
  },
  {
   "cell_type": "markdown",
   "metadata": {},
   "source": [
    "#### DATA WRANGLING"
   ]
  },
  {
   "cell_type": "code",
   "execution_count": 50,
   "metadata": {},
   "outputs": [
    {
     "data": {
      "text/html": [
       "<div>\n",
       "<style scoped>\n",
       "    .dataframe tbody tr th:only-of-type {\n",
       "        vertical-align: middle;\n",
       "    }\n",
       "\n",
       "    .dataframe tbody tr th {\n",
       "        vertical-align: top;\n",
       "    }\n",
       "\n",
       "    .dataframe thead th {\n",
       "        text-align: right;\n",
       "    }\n",
       "</style>\n",
       "<table border=\"1\" class=\"dataframe\">\n",
       "  <thead>\n",
       "    <tr style=\"text-align: right;\">\n",
       "      <th></th>\n",
       "      <th>Municipality</th>\n",
       "      <th>Case_Number</th>\n",
       "      <th>Population</th>\n",
       "    </tr>\n",
       "  </thead>\n",
       "  <tbody>\n",
       "    <tr>\n",
       "      <td>1</td>\n",
       "      <td>'s-Hertogenbosch</td>\n",
       "      <td>87</td>\n",
       "      <td>155113</td>\n",
       "    </tr>\n",
       "    <tr>\n",
       "      <td>2</td>\n",
       "      <td>Aa en Hunze</td>\n",
       "      <td>1</td>\n",
       "      <td>25453</td>\n",
       "    </tr>\n",
       "    <tr>\n",
       "      <td>3</td>\n",
       "      <td>Aalsmeer</td>\n",
       "      <td>8</td>\n",
       "      <td>31857</td>\n",
       "    </tr>\n",
       "    <tr>\n",
       "      <td>4</td>\n",
       "      <td>Aalten</td>\n",
       "      <td>1</td>\n",
       "      <td>27117</td>\n",
       "    </tr>\n",
       "    <tr>\n",
       "      <td>5</td>\n",
       "      <td>Achtkarspelen</td>\n",
       "      <td>0</td>\n",
       "      <td>27836</td>\n",
       "    </tr>\n",
       "  </tbody>\n",
       "</table>\n",
       "</div>"
      ],
      "text/plain": [
       "       Municipality Case_Number Population\n",
       "1  's-Hertogenbosch          87     155113\n",
       "2       Aa en Hunze           1      25453\n",
       "3          Aalsmeer           8      31857\n",
       "4            Aalten           1      27117\n",
       "5     Achtkarspelen           0      27836"
      ]
     },
     "execution_count": 50,
     "metadata": {},
     "output_type": "execute_result"
    }
   ],
   "source": [
    "df2=pd.read_csv(\"dataset.csv\", sep=\";\", header=None, index_col=None)\n",
    "df2=df2.drop(0)\n",
    "#df2=df2.drop(1)\n",
    "headers=[\"Gemnr\",\"Municipality\",\"Case_Number\",\"Population\",\"1/100.000\",]\n",
    "df2.columns=headers\n",
    "df2=df2.drop(df2.columns[0], axis=1)\n",
    "df2=df2.drop(df2.columns[3], axis=1)\n",
    "#df2=df2.drop(df2.columns[2], axis=1)\n",
    "\n",
    "df2.head()"
   ]
  },
  {
   "cell_type": "code",
   "execution_count": 51,
   "metadata": {},
   "outputs": [],
   "source": [
    "df2['Population'] = pd.to_numeric(df2['Population'])"
   ]
  },
  {
   "cell_type": "code",
   "execution_count": 52,
   "metadata": {},
   "outputs": [],
   "source": [
    "df2['Case_Number'] = pd.to_numeric(df2['Case_Number'])"
   ]
  },
  {
   "cell_type": "code",
   "execution_count": 53,
   "metadata": {},
   "outputs": [
    {
     "data": {
      "text/plain": [
       "Municipality    object\n",
       "Case_Number      int64\n",
       "Population       int64\n",
       "dtype: object"
      ]
     },
     "execution_count": 53,
     "metadata": {},
     "output_type": "execute_result"
    }
   ],
   "source": [
    "df2.dtypes"
   ]
  },
  {
   "cell_type": "code",
   "execution_count": 54,
   "metadata": {},
   "outputs": [
    {
     "name": "stdout",
     "output_type": "stream",
     "text": [
      "<class 'pandas.core.frame.DataFrame'>\n",
      "Int64Index: 355 entries, 1 to 355\n",
      "Data columns (total 3 columns):\n",
      "Municipality    355 non-null object\n",
      "Case_Number     355 non-null int64\n",
      "Population      355 non-null int64\n",
      "dtypes: int64(2), object(1)\n",
      "memory usage: 11.1+ KB\n"
     ]
    }
   ],
   "source": [
    "df2.info()"
   ]
  },
  {
   "cell_type": "code",
   "execution_count": 55,
   "metadata": {},
   "outputs": [
    {
     "data": {
      "text/plain": [
       "Municipality    0\n",
       "Case_Number     0\n",
       "Population      0\n",
       "dtype: int64"
      ]
     },
     "execution_count": 55,
     "metadata": {},
     "output_type": "execute_result"
    }
   ],
   "source": [
    "df2.isnull().sum()"
   ]
  },
  {
   "cell_type": "markdown",
   "metadata": {},
   "source": [
    "## PART-III SCRAPING PROVINCES FROM WIKIPEDIA / DATASET 3  "
   ]
  },
  {
   "cell_type": "code",
   "execution_count": 56,
   "metadata": {},
   "outputs": [],
   "source": [
    "# Scrapping the data via BS4\n",
    "request_data2=requests.get('https://simple.wikipedia.org/wiki/List_of_municipalities_of_the_Netherlands').text\n",
    "soup2 = BeautifulSoup(request_data2,'html.parser')\n",
    "#print(soup.prettify())"
   ]
  },
  {
   "cell_type": "code",
   "execution_count": 57,
   "metadata": {},
   "outputs": [],
   "source": [
    "#Scrapping the table from the raw data\n",
    "my_table2=soup2.find_all('table')"
   ]
  },
  {
   "cell_type": "code",
   "execution_count": 58,
   "metadata": {},
   "outputs": [
    {
     "data": {
      "text/html": [
       "<div>\n",
       "<style scoped>\n",
       "    .dataframe tbody tr th:only-of-type {\n",
       "        vertical-align: middle;\n",
       "    }\n",
       "\n",
       "    .dataframe tbody tr th {\n",
       "        vertical-align: top;\n",
       "    }\n",
       "\n",
       "    .dataframe thead th {\n",
       "        text-align: right;\n",
       "    }\n",
       "</style>\n",
       "<table border=\"1\" class=\"dataframe\">\n",
       "  <thead>\n",
       "    <tr style=\"text-align: right;\">\n",
       "      <th></th>\n",
       "      <th>Municipality</th>\n",
       "      <th>Province</th>\n",
       "    </tr>\n",
       "  </thead>\n",
       "  <tbody>\n",
       "    <tr>\n",
       "      <td>0</td>\n",
       "      <td>Aa en Hunze</td>\n",
       "      <td>Drenthe</td>\n",
       "    </tr>\n",
       "    <tr>\n",
       "      <td>1</td>\n",
       "      <td>Aalburg</td>\n",
       "      <td>North Brabant</td>\n",
       "    </tr>\n",
       "    <tr>\n",
       "      <td>2</td>\n",
       "      <td>Aalsmeer</td>\n",
       "      <td>North Holland</td>\n",
       "    </tr>\n",
       "    <tr>\n",
       "      <td>3</td>\n",
       "      <td>Aalten</td>\n",
       "      <td>Gelderland</td>\n",
       "    </tr>\n",
       "    <tr>\n",
       "      <td>4</td>\n",
       "      <td>Achtkarspelen</td>\n",
       "      <td>Friesland</td>\n",
       "    </tr>\n",
       "    <tr>\n",
       "      <td>5</td>\n",
       "      <td>Alblasserdam</td>\n",
       "      <td>South Holland</td>\n",
       "    </tr>\n",
       "    <tr>\n",
       "      <td>6</td>\n",
       "      <td>Albrandswaard</td>\n",
       "      <td>South Holland</td>\n",
       "    </tr>\n",
       "    <tr>\n",
       "      <td>7</td>\n",
       "      <td>Alkmaar</td>\n",
       "      <td>North Holland</td>\n",
       "    </tr>\n",
       "    <tr>\n",
       "      <td>8</td>\n",
       "      <td>Almelo</td>\n",
       "      <td>Overijssel</td>\n",
       "    </tr>\n",
       "    <tr>\n",
       "      <td>9</td>\n",
       "      <td>Almere</td>\n",
       "      <td>Flevoland</td>\n",
       "    </tr>\n",
       "    <tr>\n",
       "      <td>10</td>\n",
       "      <td>Alphen aan den Rijn</td>\n",
       "      <td>South Holland</td>\n",
       "    </tr>\n",
       "    <tr>\n",
       "      <td>11</td>\n",
       "      <td>Alphen-Chaam</td>\n",
       "      <td>North Brabant</td>\n",
       "    </tr>\n",
       "    <tr>\n",
       "      <td>12</td>\n",
       "      <td>Ameland</td>\n",
       "      <td>Friesland</td>\n",
       "    </tr>\n",
       "    <tr>\n",
       "      <td>13</td>\n",
       "      <td>Amersfoort</td>\n",
       "      <td>Utrecht</td>\n",
       "    </tr>\n",
       "    <tr>\n",
       "      <td>14</td>\n",
       "      <td>Amstelveen</td>\n",
       "      <td>North Holland</td>\n",
       "    </tr>\n",
       "  </tbody>\n",
       "</table>\n",
       "</div>"
      ],
      "text/plain": [
       "           Municipality       Province\n",
       "0           Aa en Hunze        Drenthe\n",
       "1               Aalburg  North Brabant\n",
       "2              Aalsmeer  North Holland\n",
       "3                Aalten     Gelderland\n",
       "4         Achtkarspelen      Friesland\n",
       "5          Alblasserdam  South Holland\n",
       "6         Albrandswaard  South Holland\n",
       "7               Alkmaar  North Holland\n",
       "8                Almelo     Overijssel\n",
       "9                Almere      Flevoland\n",
       "10  Alphen aan den Rijn  South Holland\n",
       "11         Alphen-Chaam  North Brabant\n",
       "12              Ameland      Friesland\n",
       "13           Amersfoort        Utrecht\n",
       "14           Amstelveen  North Holland"
      ]
     },
     "execution_count": 58,
     "metadata": {},
     "output_type": "execute_result"
    }
   ],
   "source": [
    "df3= pd.read_html(str(my_table2))[1]\n",
    "df3.head(15)"
   ]
  },
  {
   "cell_type": "code",
   "execution_count": 59,
   "metadata": {},
   "outputs": [
    {
     "data": {
      "text/plain": [
       "(380, 2)"
      ]
     },
     "execution_count": 59,
     "metadata": {},
     "output_type": "execute_result"
    }
   ],
   "source": [
    "df3.shape"
   ]
  },
  {
   "cell_type": "markdown",
   "metadata": {},
   "source": [
    "## PART-IV MERGING The DATASET 2 WITH The DATASET 3"
   ]
  },
  {
   "cell_type": "code",
   "execution_count": 60,
   "metadata": {},
   "outputs": [],
   "source": [
    "df=pd.merge(df2,df3[['Municipality','Province']], on='Municipality', how=\"left\") #Left join"
   ]
  },
  {
   "cell_type": "code",
   "execution_count": 61,
   "metadata": {},
   "outputs": [
    {
     "data": {
      "text/html": [
       "<div>\n",
       "<style scoped>\n",
       "    .dataframe tbody tr th:only-of-type {\n",
       "        vertical-align: middle;\n",
       "    }\n",
       "\n",
       "    .dataframe tbody tr th {\n",
       "        vertical-align: top;\n",
       "    }\n",
       "\n",
       "    .dataframe thead th {\n",
       "        text-align: right;\n",
       "    }\n",
       "</style>\n",
       "<table border=\"1\" class=\"dataframe\">\n",
       "  <thead>\n",
       "    <tr style=\"text-align: right;\">\n",
       "      <th></th>\n",
       "      <th>Municipality</th>\n",
       "      <th>Case_Number</th>\n",
       "      <th>Population</th>\n",
       "      <th>Province</th>\n",
       "    </tr>\n",
       "  </thead>\n",
       "  <tbody>\n",
       "    <tr>\n",
       "      <td>0</td>\n",
       "      <td>'s-Hertogenbosch</td>\n",
       "      <td>87</td>\n",
       "      <td>155113</td>\n",
       "      <td>North Brabant</td>\n",
       "    </tr>\n",
       "    <tr>\n",
       "      <td>1</td>\n",
       "      <td>Aa en Hunze</td>\n",
       "      <td>1</td>\n",
       "      <td>25453</td>\n",
       "      <td>Drenthe</td>\n",
       "    </tr>\n",
       "    <tr>\n",
       "      <td>2</td>\n",
       "      <td>Aalsmeer</td>\n",
       "      <td>8</td>\n",
       "      <td>31857</td>\n",
       "      <td>North Holland</td>\n",
       "    </tr>\n",
       "    <tr>\n",
       "      <td>3</td>\n",
       "      <td>Aalten</td>\n",
       "      <td>1</td>\n",
       "      <td>27117</td>\n",
       "      <td>Gelderland</td>\n",
       "    </tr>\n",
       "    <tr>\n",
       "      <td>4</td>\n",
       "      <td>Achtkarspelen</td>\n",
       "      <td>0</td>\n",
       "      <td>27836</td>\n",
       "      <td>Friesland</td>\n",
       "    </tr>\n",
       "  </tbody>\n",
       "</table>\n",
       "</div>"
      ],
      "text/plain": [
       "       Municipality  Case_Number  Population       Province\n",
       "0  's-Hertogenbosch           87      155113  North Brabant\n",
       "1       Aa en Hunze            1       25453        Drenthe\n",
       "2          Aalsmeer            8       31857  North Holland\n",
       "3            Aalten            1       27117     Gelderland\n",
       "4     Achtkarspelen            0       27836      Friesland"
      ]
     },
     "execution_count": 61,
     "metadata": {},
     "output_type": "execute_result"
    }
   ],
   "source": [
    "df.head()"
   ]
  },
  {
   "cell_type": "code",
   "execution_count": 62,
   "metadata": {},
   "outputs": [
    {
     "data": {
      "text/html": [
       "<div>\n",
       "<style scoped>\n",
       "    .dataframe tbody tr th:only-of-type {\n",
       "        vertical-align: middle;\n",
       "    }\n",
       "\n",
       "    .dataframe tbody tr th {\n",
       "        vertical-align: top;\n",
       "    }\n",
       "\n",
       "    .dataframe thead th {\n",
       "        text-align: right;\n",
       "    }\n",
       "</style>\n",
       "<table border=\"1\" class=\"dataframe\">\n",
       "  <thead>\n",
       "    <tr style=\"text-align: right;\">\n",
       "      <th></th>\n",
       "      <th>Municipality</th>\n",
       "      <th>Case_Number</th>\n",
       "      <th>Population</th>\n",
       "      <th>Province</th>\n",
       "    </tr>\n",
       "  </thead>\n",
       "  <tbody>\n",
       "    <tr>\n",
       "      <td>350</td>\n",
       "      <td>Zundert</td>\n",
       "      <td>14</td>\n",
       "      <td>21821</td>\n",
       "      <td>North Brabant</td>\n",
       "    </tr>\n",
       "    <tr>\n",
       "      <td>351</td>\n",
       "      <td>Zutphen</td>\n",
       "      <td>11</td>\n",
       "      <td>47942</td>\n",
       "      <td>Gelderland</td>\n",
       "    </tr>\n",
       "    <tr>\n",
       "      <td>352</td>\n",
       "      <td>Zwartewaterland</td>\n",
       "      <td>22</td>\n",
       "      <td>22690</td>\n",
       "      <td>Overijssel</td>\n",
       "    </tr>\n",
       "    <tr>\n",
       "      <td>353</td>\n",
       "      <td>Zwijndrecht</td>\n",
       "      <td>11</td>\n",
       "      <td>44741</td>\n",
       "      <td>South Holland</td>\n",
       "    </tr>\n",
       "    <tr>\n",
       "      <td>354</td>\n",
       "      <td>Zwolle</td>\n",
       "      <td>38</td>\n",
       "      <td>128831</td>\n",
       "      <td>Overijssel</td>\n",
       "    </tr>\n",
       "  </tbody>\n",
       "</table>\n",
       "</div>"
      ],
      "text/plain": [
       "        Municipality  Case_Number  Population       Province\n",
       "350          Zundert           14       21821  North Brabant\n",
       "351          Zutphen           11       47942     Gelderland\n",
       "352  Zwartewaterland           22       22690     Overijssel\n",
       "353      Zwijndrecht           11       44741  South Holland\n",
       "354           Zwolle           38      128831     Overijssel"
      ]
     },
     "execution_count": 62,
     "metadata": {},
     "output_type": "execute_result"
    }
   ],
   "source": [
    "df.tail(5)"
   ]
  },
  {
   "cell_type": "code",
   "execution_count": 63,
   "metadata": {},
   "outputs": [
    {
     "data": {
      "text/plain": [
       "True     343\n",
       "False     12\n",
       "Name: Municipality, dtype: int64"
      ]
     },
     "execution_count": 63,
     "metadata": {},
     "output_type": "execute_result"
    }
   ],
   "source": [
    "df2.Municipality.isin(df3.Municipality).value_counts() # Comparing the dataset1 and dataset2 by municipality numbers"
   ]
  },
  {
   "cell_type": "code",
   "execution_count": 64,
   "metadata": {},
   "outputs": [
    {
     "data": {
      "text/plain": [
       "355"
      ]
     },
     "execution_count": 64,
     "metadata": {},
     "output_type": "execute_result"
    }
   ],
   "source": [
    "df.Municipality.count() # Municipality Number in the NL"
   ]
  },
  {
   "cell_type": "code",
   "execution_count": 65,
   "metadata": {},
   "outputs": [
    {
     "data": {
      "text/plain": [
       "North Brabant    61\n",
       "Gelderland       50\n",
       "South Holland    49\n",
       "North Holland    46\n",
       "Limburg          29\n",
       "Utrecht          25\n",
       "Overijssel       25\n",
       "Friesland        17\n",
       "Zeeland          13\n",
       "Drenthe          12\n",
       "Groningen        10\n",
       "Flevoland         6\n",
       "Name: Province, dtype: int64"
      ]
     },
     "execution_count": 65,
     "metadata": {},
     "output_type": "execute_result"
    }
   ],
   "source": [
    "df.Province.value_counts()"
   ]
  },
  {
   "cell_type": "code",
   "execution_count": 66,
   "metadata": {},
   "outputs": [
    {
     "data": {
      "text/plain": [
       "343"
      ]
     },
     "execution_count": 66,
     "metadata": {},
     "output_type": "execute_result"
    }
   ],
   "source": [
    "df.Province.value_counts().sum()"
   ]
  },
  {
   "cell_type": "code",
   "execution_count": 67,
   "metadata": {},
   "outputs": [
    {
     "name": "stdout",
     "output_type": "stream",
     "text": [
      "    Province\n",
      "12       NaN\n",
      "27       NaN\n",
      "32       NaN\n",
      "33       NaN\n",
      "137      NaN\n",
      "143      NaN\n",
      "196      NaN\n",
      "207      NaN\n",
      "255      NaN\n",
      "306      NaN\n",
      "323      NaN\n",
      "325      NaN\n"
     ]
    }
   ],
   "source": [
    "null_columns=df.columns[df.isnull().any()]\n",
    "print(df[df.isnull().any(axis=1)][null_columns].head(12)) #The null provinces by index number"
   ]
  },
  {
   "cell_type": "code",
   "execution_count": 68,
   "metadata": {},
   "outputs": [],
   "source": [
    "#Filling the null provinces\n",
    "df.loc[df['Municipality']=='West Betuwe', 'Province']='Gelderland'\n",
    "df.loc[df['Municipality']=='Westerkwartier', 'Province']='Groningen'\n",
    "df.loc[df['Municipality']=='Vijfheerenlanden', 'Province']='Utrecht'\n",
    "df.loc[df['Municipality']=='s-Gravenhage', 'Province']='South Holland'\n",
    "df.loc[df['Municipality']=='Noardeast-Fryslân', 'Province']='Friesland'\n",
    "df.loc[df['Municipality']=='Mill en Sint Hubert', 'Province']='North Brabant'\n",
    "df.loc[df['Municipality']=='Hoeksche Waard', 'Province']='South Holland'\n",
    "df.loc[df['Municipality']=='Het Hogeland', 'Province']='Groningen'\n",
    "df.loc[df['Municipality']=='Bergen (NH.)', 'Province']=' North Holland'\n",
    "df.loc[df['Municipality']=='Bergen (L.)', 'Province']='Limburg'\n",
    "df.loc[df['Municipality']=='Beekdaelen', 'Province']='Limburg'\n",
    "df.loc[df['Municipality']=='Altena', 'Province']='North Brabant'\n",
    "df.loc[df['Municipality']=='Molenlanden', 'Province']='South Holland'\n",
    "df.loc[df['Municipality']=='Noardeast-FryslÃ¢n', 'Municipality']='Noardeast-Fryslan'\n",
    "df.loc[df['Municipality']=='Noardeast-Fryslan', 'Province']='Friesland'\n",
    "df.loc[df['Municipality']=='SÃºdwest-FryslÃ¢n', 'Municipality']='Sudwest-Fryslan'\n",
    "df.loc[df['Municipality']=='Sudwest-Fryslan', 'Province']='Friesland'"
   ]
  },
  {
   "cell_type": "code",
   "execution_count": 69,
   "metadata": {},
   "outputs": [],
   "source": [
    "df.Province=df.Province.str.lstrip()"
   ]
  },
  {
   "cell_type": "code",
   "execution_count": 70,
   "metadata": {},
   "outputs": [
    {
     "name": "stdout",
     "output_type": "stream",
     "text": [
      "Empty DataFrame\n",
      "Columns: []\n",
      "Index: []\n"
     ]
    }
   ],
   "source": [
    "null_columns=df.columns[df.isnull().any()]\n",
    "print(df[df.isnull().any(axis=1)][null_columns].head(12))"
   ]
  },
  {
   "cell_type": "code",
   "execution_count": 71,
   "metadata": {},
   "outputs": [
    {
     "data": {
      "text/plain": [
       "Municipality    0\n",
       "Case_Number     0\n",
       "Population      0\n",
       "Province        0\n",
       "dtype: int64"
      ]
     },
     "execution_count": 71,
     "metadata": {},
     "output_type": "execute_result"
    }
   ],
   "source": [
    "df.isnull().sum()"
   ]
  },
  {
   "cell_type": "code",
   "execution_count": 72,
   "metadata": {},
   "outputs": [],
   "source": [
    "#df.to_csv (r'C:\\Users\\dell\\Desktop\\NLP\\deneme.csv',  index = True, header=True)"
   ]
  },
  {
   "cell_type": "markdown",
   "metadata": {},
   "source": [
    "## PART V - EXPLANATORY DATA ANALYSIS"
   ]
  },
  {
   "cell_type": "code",
   "execution_count": 73,
   "metadata": {},
   "outputs": [
    {
     "data": {
      "text/plain": [
       "355"
      ]
     },
     "execution_count": 73,
     "metadata": {},
     "output_type": "execute_result"
    }
   ],
   "source": [
    "df.Municipality.count() # Municipality Number in the NL"
   ]
  },
  {
   "cell_type": "code",
   "execution_count": 74,
   "metadata": {},
   "outputs": [
    {
     "name": "stdout",
     "output_type": "stream",
     "text": [
      "The total Case Number in the Netherlands is 7048.\n"
     ]
    }
   ],
   "source": [
    "df_sum=df.Case_Number.sum()\n",
    "print(f'The total Case Number in the Netherlands is {df_sum}.')"
   ]
  },
  {
   "cell_type": "code",
   "execution_count": 75,
   "metadata": {},
   "outputs": [
    {
     "name": "stdout",
     "output_type": "stream",
     "text": [
      "The municipality where the case number is the highest in the Netherlands is  Amsterdam\n",
      "The case number in  Amsterdam is 330.\n"
     ]
    }
   ],
   "source": [
    "df_max = df.Case_Number.max()\n",
    "df_max_mun=df.Municipality[df.Case_Number == df_max]\n",
    "print(f\"The municipality where the case number is the highest in the Netherlands is {df_max_mun.to_string(header=False, index=False)}\")\n",
    "print(f\"The case number in {df_max_mun.to_string(header=False, index=False)} is {str(df_max)}.\")"
   ]
  },
  {
   "cell_type": "code",
   "execution_count": 76,
   "metadata": {
    "scrolled": true
   },
   "outputs": [
    {
     "data": {
      "text/html": [
       "<div>\n",
       "<style scoped>\n",
       "    .dataframe tbody tr th:only-of-type {\n",
       "        vertical-align: middle;\n",
       "    }\n",
       "\n",
       "    .dataframe tbody tr th {\n",
       "        vertical-align: top;\n",
       "    }\n",
       "\n",
       "    .dataframe thead th {\n",
       "        text-align: right;\n",
       "    }\n",
       "</style>\n",
       "<table border=\"1\" class=\"dataframe\">\n",
       "  <thead>\n",
       "    <tr style=\"text-align: right;\">\n",
       "      <th></th>\n",
       "      <th>Municipality</th>\n",
       "      <th>Case_Number</th>\n",
       "      <th>Population</th>\n",
       "      <th>Province</th>\n",
       "    </tr>\n",
       "  </thead>\n",
       "  <tbody>\n",
       "    <tr>\n",
       "      <td>16</td>\n",
       "      <td>Amsterdam</td>\n",
       "      <td>330</td>\n",
       "      <td>872779</td>\n",
       "      <td>North Holland</td>\n",
       "    </tr>\n",
       "    <tr>\n",
       "      <td>252</td>\n",
       "      <td>Rotterdam</td>\n",
       "      <td>198</td>\n",
       "      <td>651376</td>\n",
       "      <td>South Holland</td>\n",
       "    </tr>\n",
       "    <tr>\n",
       "      <td>188</td>\n",
       "      <td>Meierijstad</td>\n",
       "      <td>144</td>\n",
       "      <td>81197</td>\n",
       "      <td>North Brabant</td>\n",
       "    </tr>\n",
       "    <tr>\n",
       "      <td>285</td>\n",
       "      <td>Tilburg</td>\n",
       "      <td>144</td>\n",
       "      <td>219800</td>\n",
       "      <td>North Brabant</td>\n",
       "    </tr>\n",
       "    <tr>\n",
       "      <td>255</td>\n",
       "      <td>s-Gravenhage</td>\n",
       "      <td>139</td>\n",
       "      <td>545163</td>\n",
       "      <td>South Holland</td>\n",
       "    </tr>\n",
       "    <tr>\n",
       "      <td>294</td>\n",
       "      <td>Utrecht</td>\n",
       "      <td>131</td>\n",
       "      <td>357694</td>\n",
       "      <td>Utrecht</td>\n",
       "    </tr>\n",
       "    <tr>\n",
       "      <td>50</td>\n",
       "      <td>Breda</td>\n",
       "      <td>127</td>\n",
       "      <td>184271</td>\n",
       "      <td>North Brabant</td>\n",
       "    </tr>\n",
       "    <tr>\n",
       "      <td>234</td>\n",
       "      <td>Peel en Maas</td>\n",
       "      <td>118</td>\n",
       "      <td>43420</td>\n",
       "      <td>Limburg</td>\n",
       "    </tr>\n",
       "    <tr>\n",
       "      <td>185</td>\n",
       "      <td>Maastricht</td>\n",
       "      <td>106</td>\n",
       "      <td>121558</td>\n",
       "      <td>Limburg</td>\n",
       "    </tr>\n",
       "    <tr>\n",
       "      <td>228</td>\n",
       "      <td>Oss</td>\n",
       "      <td>100</td>\n",
       "      <td>91932</td>\n",
       "      <td>North Brabant</td>\n",
       "    </tr>\n",
       "    <tr>\n",
       "      <td>304</td>\n",
       "      <td>Venlo</td>\n",
       "      <td>95</td>\n",
       "      <td>101797</td>\n",
       "      <td>Limburg</td>\n",
       "    </tr>\n",
       "    <tr>\n",
       "      <td>205</td>\n",
       "      <td>Nijmegen</td>\n",
       "      <td>94</td>\n",
       "      <td>177698</td>\n",
       "      <td>Gelderland</td>\n",
       "    </tr>\n",
       "    <tr>\n",
       "      <td>92</td>\n",
       "      <td>Eindhoven</td>\n",
       "      <td>87</td>\n",
       "      <td>234456</td>\n",
       "      <td>North Brabant</td>\n",
       "    </tr>\n",
       "    <tr>\n",
       "      <td>0</td>\n",
       "      <td>'s-Hertogenbosch</td>\n",
       "      <td>87</td>\n",
       "      <td>155113</td>\n",
       "      <td>North Brabant</td>\n",
       "    </tr>\n",
       "    <tr>\n",
       "      <td>129</td>\n",
       "      <td>Heerlen</td>\n",
       "      <td>83</td>\n",
       "      <td>87057</td>\n",
       "      <td>Limburg</td>\n",
       "    </tr>\n",
       "    <tr>\n",
       "      <td>290</td>\n",
       "      <td>Uden</td>\n",
       "      <td>82</td>\n",
       "      <td>42122</td>\n",
       "      <td>North Brabant</td>\n",
       "    </tr>\n",
       "    <tr>\n",
       "      <td>9</td>\n",
       "      <td>Almere</td>\n",
       "      <td>77</td>\n",
       "      <td>211840</td>\n",
       "      <td>Flevoland</td>\n",
       "    </tr>\n",
       "    <tr>\n",
       "      <td>341</td>\n",
       "      <td>Zaanstad</td>\n",
       "      <td>71</td>\n",
       "      <td>156711</td>\n",
       "      <td>North Holland</td>\n",
       "    </tr>\n",
       "    <tr>\n",
       "      <td>264</td>\n",
       "      <td>Sittard-Geleen</td>\n",
       "      <td>71</td>\n",
       "      <td>92422</td>\n",
       "      <td>Limburg</td>\n",
       "    </tr>\n",
       "    <tr>\n",
       "      <td>36</td>\n",
       "      <td>Bernheze</td>\n",
       "      <td>70</td>\n",
       "      <td>31247</td>\n",
       "      <td>North Brabant</td>\n",
       "    </tr>\n",
       "  </tbody>\n",
       "</table>\n",
       "</div>"
      ],
      "text/plain": [
       "         Municipality  Case_Number  Population       Province\n",
       "16          Amsterdam          330      872779  North Holland\n",
       "252         Rotterdam          198      651376  South Holland\n",
       "188       Meierijstad          144       81197  North Brabant\n",
       "285           Tilburg          144      219800  North Brabant\n",
       "255      s-Gravenhage          139      545163  South Holland\n",
       "294           Utrecht          131      357694        Utrecht\n",
       "50              Breda          127      184271  North Brabant\n",
       "234      Peel en Maas          118       43420        Limburg\n",
       "185        Maastricht          106      121558        Limburg\n",
       "228               Oss          100       91932  North Brabant\n",
       "304             Venlo           95      101797        Limburg\n",
       "205          Nijmegen           94      177698     Gelderland\n",
       "92          Eindhoven           87      234456  North Brabant\n",
       "0    's-Hertogenbosch           87      155113  North Brabant\n",
       "129           Heerlen           83       87057        Limburg\n",
       "290              Uden           82       42122  North Brabant\n",
       "9              Almere           77      211840      Flevoland\n",
       "341          Zaanstad           71      156711  North Holland\n",
       "264    Sittard-Geleen           71       92422        Limburg\n",
       "36           Bernheze           70       31247  North Brabant"
      ]
     },
     "execution_count": 76,
     "metadata": {},
     "output_type": "execute_result"
    }
   ],
   "source": [
    "df_maxs=df.sort_values(ascending=False, by='Case_Number').head(20) #The municipalities where the case number is the highest in the NL.\n",
    "df_maxs"
   ]
  },
  {
   "cell_type": "code",
   "execution_count": 77,
   "metadata": {
    "scrolled": true
   },
   "outputs": [
    {
     "data": {
      "text/plain": [
       "(array([ 0,  1,  2,  3,  4,  5,  6,  7,  8,  9, 10, 11, 12, 13, 14, 15, 16,\n",
       "        17, 18, 19]), <a list of 20 Text xticklabel objects>)"
      ]
     },
     "execution_count": 77,
     "metadata": {},
     "output_type": "execute_result"
    },
    {
     "data": {
      "image/png": "[encoded data removed]",
      "text/plain": [
       "<Figure size 432x288 with 1 Axes>"
      ]
     },
     "metadata": {},
     "output_type": "display_data"
    }
   ],
   "source": [
    "import seaborn as sns\n",
    "sns.set(style=\"whitegrid\")\n",
    "ax = sns.barplot(x=df_maxs.Municipality, y=df_maxs.Case_Number, data=df_maxs, palette='rainbow')\n",
    "ax.set(xlabel='Municipality Name', ylabel='Case Numbers', title='20 Municipalities where the Covid-19 cases are the highest in the Netherlands')\n",
    "plt.xticks(rotation=85)"
   ]
  },
  {
   "cell_type": "code",
   "execution_count": 78,
   "metadata": {
    "scrolled": false
   },
   "outputs": [
    {
     "data": {
      "text/html": [
       "<div>\n",
       "<style scoped>\n",
       "    .dataframe tbody tr th:only-of-type {\n",
       "        vertical-align: middle;\n",
       "    }\n",
       "\n",
       "    .dataframe tbody tr th {\n",
       "        vertical-align: top;\n",
       "    }\n",
       "\n",
       "    .dataframe thead th {\n",
       "        text-align: right;\n",
       "    }\n",
       "</style>\n",
       "<table border=\"1\" class=\"dataframe\">\n",
       "  <thead>\n",
       "    <tr style=\"text-align: right;\">\n",
       "      <th></th>\n",
       "      <th>Municipality</th>\n",
       "      <th>Case_Number</th>\n",
       "      <th>Population</th>\n",
       "      <th>Province</th>\n",
       "    </tr>\n",
       "  </thead>\n",
       "  <tbody>\n",
       "    <tr>\n",
       "      <td>208</td>\n",
       "      <td>Noord-Beveland</td>\n",
       "      <td>0</td>\n",
       "      <td>7395</td>\n",
       "      <td>Zeeland</td>\n",
       "    </tr>\n",
       "    <tr>\n",
       "      <td>308</td>\n",
       "      <td>Vlieland</td>\n",
       "      <td>0</td>\n",
       "      <td>1152</td>\n",
       "      <td>Friesland</td>\n",
       "    </tr>\n",
       "    <tr>\n",
       "      <td>4</td>\n",
       "      <td>Achtkarspelen</td>\n",
       "      <td>0</td>\n",
       "      <td>27836</td>\n",
       "      <td>Friesland</td>\n",
       "    </tr>\n",
       "    <tr>\n",
       "      <td>180</td>\n",
       "      <td>Loppersum</td>\n",
       "      <td>0</td>\n",
       "      <td>9533</td>\n",
       "      <td>Groningen</td>\n",
       "    </tr>\n",
       "    <tr>\n",
       "      <td>280</td>\n",
       "      <td>Terschelling</td>\n",
       "      <td>0</td>\n",
       "      <td>4889</td>\n",
       "      <td>Friesland</td>\n",
       "    </tr>\n",
       "    <tr>\n",
       "      <td>271</td>\n",
       "      <td>Stadskanaal</td>\n",
       "      <td>0</td>\n",
       "      <td>31688</td>\n",
       "      <td>Groningen</td>\n",
       "    </tr>\n",
       "    <tr>\n",
       "      <td>259</td>\n",
       "      <td>Schiermonnikoog</td>\n",
       "      <td>0</td>\n",
       "      <td>947</td>\n",
       "      <td>Friesland</td>\n",
       "    </tr>\n",
       "    <tr>\n",
       "      <td>13</td>\n",
       "      <td>Ameland</td>\n",
       "      <td>0</td>\n",
       "      <td>3718</td>\n",
       "      <td>Friesland</td>\n",
       "    </tr>\n",
       "    <tr>\n",
       "      <td>217</td>\n",
       "      <td>Oldambt</td>\n",
       "      <td>1</td>\n",
       "      <td>38213</td>\n",
       "      <td>Groningen</td>\n",
       "    </tr>\n",
       "    <tr>\n",
       "      <td>224</td>\n",
       "      <td>Ooststellingwerf</td>\n",
       "      <td>1</td>\n",
       "      <td>25472</td>\n",
       "      <td>Friesland</td>\n",
       "    </tr>\n",
       "    <tr>\n",
       "      <td>226</td>\n",
       "      <td>Opmeer</td>\n",
       "      <td>1</td>\n",
       "      <td>11837</td>\n",
       "      <td>North Holland</td>\n",
       "    </tr>\n",
       "    <tr>\n",
       "      <td>52</td>\n",
       "      <td>Bronckhorst</td>\n",
       "      <td>1</td>\n",
       "      <td>36052</td>\n",
       "      <td>Gelderland</td>\n",
       "    </tr>\n",
       "    <tr>\n",
       "      <td>238</td>\n",
       "      <td>Putten</td>\n",
       "      <td>1</td>\n",
       "      <td>24113</td>\n",
       "      <td>Gelderland</td>\n",
       "    </tr>\n",
       "    <tr>\n",
       "      <td>155</td>\n",
       "      <td>Kapelle</td>\n",
       "      <td>1</td>\n",
       "      <td>12691</td>\n",
       "      <td>Zeeland</td>\n",
       "    </tr>\n",
       "    <tr>\n",
       "      <td>35</td>\n",
       "      <td>Berkelland</td>\n",
       "      <td>1</td>\n",
       "      <td>43748</td>\n",
       "      <td>Gelderland</td>\n",
       "    </tr>\n",
       "  </tbody>\n",
       "</table>\n",
       "</div>"
      ],
      "text/plain": [
       "         Municipality  Case_Number  Population       Province\n",
       "208    Noord-Beveland            0        7395        Zeeland\n",
       "308          Vlieland            0        1152      Friesland\n",
       "4       Achtkarspelen            0       27836      Friesland\n",
       "180         Loppersum            0        9533      Groningen\n",
       "280      Terschelling            0        4889      Friesland\n",
       "271       Stadskanaal            0       31688      Groningen\n",
       "259   Schiermonnikoog            0         947      Friesland\n",
       "13            Ameland            0        3718      Friesland\n",
       "217           Oldambt            1       38213      Groningen\n",
       "224  Ooststellingwerf            1       25472      Friesland\n",
       "226            Opmeer            1       11837  North Holland\n",
       "52        Bronckhorst            1       36052     Gelderland\n",
       "238            Putten            1       24113     Gelderland\n",
       "155           Kapelle            1       12691        Zeeland\n",
       "35         Berkelland            1       43748     Gelderland"
      ]
     },
     "execution_count": 78,
     "metadata": {},
     "output_type": "execute_result"
    }
   ],
   "source": [
    "df.sort_values(by='Case_Number').head(15) #The municipalities where the case number is the lowest in the NL."
   ]
  },
  {
   "cell_type": "code",
   "execution_count": 79,
   "metadata": {},
   "outputs": [
    {
     "data": {
      "text/html": [
       "<div>\n",
       "<style scoped>\n",
       "    .dataframe tbody tr th:only-of-type {\n",
       "        vertical-align: middle;\n",
       "    }\n",
       "\n",
       "    .dataframe tbody tr th {\n",
       "        vertical-align: top;\n",
       "    }\n",
       "\n",
       "    .dataframe thead th {\n",
       "        text-align: right;\n",
       "    }\n",
       "</style>\n",
       "<table border=\"1\" class=\"dataframe\">\n",
       "  <thead>\n",
       "    <tr style=\"text-align: right;\">\n",
       "      <th></th>\n",
       "      <th>Municipality</th>\n",
       "      <th>Case_Number</th>\n",
       "      <th>Population</th>\n",
       "      <th>Province</th>\n",
       "    </tr>\n",
       "  </thead>\n",
       "  <tbody>\n",
       "    <tr>\n",
       "      <td>16</td>\n",
       "      <td>Amsterdam</td>\n",
       "      <td>330</td>\n",
       "      <td>872779</td>\n",
       "      <td>North Holland</td>\n",
       "    </tr>\n",
       "    <tr>\n",
       "      <td>252</td>\n",
       "      <td>Rotterdam</td>\n",
       "      <td>198</td>\n",
       "      <td>651376</td>\n",
       "      <td>South Holland</td>\n",
       "    </tr>\n",
       "    <tr>\n",
       "      <td>255</td>\n",
       "      <td>s-Gravenhage</td>\n",
       "      <td>139</td>\n",
       "      <td>545163</td>\n",
       "      <td>South Holland</td>\n",
       "    </tr>\n",
       "    <tr>\n",
       "      <td>294</td>\n",
       "      <td>Utrecht</td>\n",
       "      <td>131</td>\n",
       "      <td>357694</td>\n",
       "      <td>Utrecht</td>\n",
       "    </tr>\n",
       "    <tr>\n",
       "      <td>92</td>\n",
       "      <td>Eindhoven</td>\n",
       "      <td>87</td>\n",
       "      <td>234456</td>\n",
       "      <td>North Brabant</td>\n",
       "    </tr>\n",
       "    <tr>\n",
       "      <td>112</td>\n",
       "      <td>Groningen</td>\n",
       "      <td>13</td>\n",
       "      <td>232922</td>\n",
       "      <td>Groningen</td>\n",
       "    </tr>\n",
       "    <tr>\n",
       "      <td>285</td>\n",
       "      <td>Tilburg</td>\n",
       "      <td>144</td>\n",
       "      <td>219800</td>\n",
       "      <td>North Brabant</td>\n",
       "    </tr>\n",
       "    <tr>\n",
       "      <td>9</td>\n",
       "      <td>Almere</td>\n",
       "      <td>77</td>\n",
       "      <td>211840</td>\n",
       "      <td>Flevoland</td>\n",
       "    </tr>\n",
       "    <tr>\n",
       "      <td>50</td>\n",
       "      <td>Breda</td>\n",
       "      <td>127</td>\n",
       "      <td>184271</td>\n",
       "      <td>North Brabant</td>\n",
       "    </tr>\n",
       "    <tr>\n",
       "      <td>205</td>\n",
       "      <td>Nijmegen</td>\n",
       "      <td>94</td>\n",
       "      <td>177698</td>\n",
       "      <td>Gelderland</td>\n",
       "    </tr>\n",
       "    <tr>\n",
       "      <td>17</td>\n",
       "      <td>Apeldoorn</td>\n",
       "      <td>28</td>\n",
       "      <td>163829</td>\n",
       "      <td>Gelderland</td>\n",
       "    </tr>\n",
       "    <tr>\n",
       "      <td>116</td>\n",
       "      <td>Haarlem</td>\n",
       "      <td>36</td>\n",
       "      <td>162961</td>\n",
       "      <td>North Holland</td>\n",
       "    </tr>\n",
       "    <tr>\n",
       "      <td>19</td>\n",
       "      <td>Arnhem</td>\n",
       "      <td>44</td>\n",
       "      <td>161368</td>\n",
       "      <td>Gelderland</td>\n",
       "    </tr>\n",
       "    <tr>\n",
       "      <td>96</td>\n",
       "      <td>Enschede</td>\n",
       "      <td>39</td>\n",
       "      <td>159734</td>\n",
       "      <td>Overijssel</td>\n",
       "    </tr>\n",
       "    <tr>\n",
       "      <td>14</td>\n",
       "      <td>Amersfoort</td>\n",
       "      <td>36</td>\n",
       "      <td>157279</td>\n",
       "      <td>Utrecht</td>\n",
       "    </tr>\n",
       "    <tr>\n",
       "      <td>341</td>\n",
       "      <td>Zaanstad</td>\n",
       "      <td>71</td>\n",
       "      <td>156711</td>\n",
       "      <td>North Holland</td>\n",
       "    </tr>\n",
       "    <tr>\n",
       "      <td>117</td>\n",
       "      <td>Haarlemmermeer</td>\n",
       "      <td>41</td>\n",
       "      <td>156039</td>\n",
       "      <td>North Holland</td>\n",
       "    </tr>\n",
       "    <tr>\n",
       "      <td>0</td>\n",
       "      <td>'s-Hertogenbosch</td>\n",
       "      <td>87</td>\n",
       "      <td>155113</td>\n",
       "      <td>North Brabant</td>\n",
       "    </tr>\n",
       "    <tr>\n",
       "      <td>354</td>\n",
       "      <td>Zwolle</td>\n",
       "      <td>38</td>\n",
       "      <td>128831</td>\n",
       "      <td>Overijssel</td>\n",
       "    </tr>\n",
       "    <tr>\n",
       "      <td>347</td>\n",
       "      <td>Zoetermeer</td>\n",
       "      <td>28</td>\n",
       "      <td>125283</td>\n",
       "      <td>South Holland</td>\n",
       "    </tr>\n",
       "    <tr>\n",
       "      <td>169</td>\n",
       "      <td>Leiden</td>\n",
       "      <td>24</td>\n",
       "      <td>125174</td>\n",
       "      <td>South Holland</td>\n",
       "    </tr>\n",
       "    <tr>\n",
       "      <td>168</td>\n",
       "      <td>Leeuwarden</td>\n",
       "      <td>29</td>\n",
       "      <td>124058</td>\n",
       "      <td>Friesland</td>\n",
       "    </tr>\n",
       "    <tr>\n",
       "      <td>185</td>\n",
       "      <td>Maastricht</td>\n",
       "      <td>106</td>\n",
       "      <td>121558</td>\n",
       "      <td>Limburg</td>\n",
       "    </tr>\n",
       "    <tr>\n",
       "      <td>80</td>\n",
       "      <td>Dordrecht</td>\n",
       "      <td>49</td>\n",
       "      <td>119300</td>\n",
       "      <td>South Holland</td>\n",
       "    </tr>\n",
       "    <tr>\n",
       "      <td>88</td>\n",
       "      <td>Ede</td>\n",
       "      <td>41</td>\n",
       "      <td>117166</td>\n",
       "      <td>Gelderland</td>\n",
       "    </tr>\n",
       "    <tr>\n",
       "      <td>10</td>\n",
       "      <td>Alphen aan den Rijn</td>\n",
       "      <td>40</td>\n",
       "      <td>111889</td>\n",
       "      <td>South Holland</td>\n",
       "    </tr>\n",
       "    <tr>\n",
       "      <td>329</td>\n",
       "      <td>Westland</td>\n",
       "      <td>36</td>\n",
       "      <td>110357</td>\n",
       "      <td>South Holland</td>\n",
       "    </tr>\n",
       "    <tr>\n",
       "      <td>7</td>\n",
       "      <td>Alkmaar</td>\n",
       "      <td>35</td>\n",
       "      <td>109444</td>\n",
       "      <td>North Holland</td>\n",
       "    </tr>\n",
       "    <tr>\n",
       "      <td>94</td>\n",
       "      <td>Emmen</td>\n",
       "      <td>9</td>\n",
       "      <td>107055</td>\n",
       "      <td>Drenthe</td>\n",
       "    </tr>\n",
       "    <tr>\n",
       "      <td>70</td>\n",
       "      <td>Delft</td>\n",
       "      <td>27</td>\n",
       "      <td>103659</td>\n",
       "      <td>South Holland</td>\n",
       "    </tr>\n",
       "  </tbody>\n",
       "</table>\n",
       "</div>"
      ],
      "text/plain": [
       "            Municipality  Case_Number  Population       Province\n",
       "16             Amsterdam          330      872779  North Holland\n",
       "252            Rotterdam          198      651376  South Holland\n",
       "255         s-Gravenhage          139      545163  South Holland\n",
       "294              Utrecht          131      357694        Utrecht\n",
       "92             Eindhoven           87      234456  North Brabant\n",
       "112            Groningen           13      232922      Groningen\n",
       "285              Tilburg          144      219800  North Brabant\n",
       "9                 Almere           77      211840      Flevoland\n",
       "50                 Breda          127      184271  North Brabant\n",
       "205             Nijmegen           94      177698     Gelderland\n",
       "17             Apeldoorn           28      163829     Gelderland\n",
       "116              Haarlem           36      162961  North Holland\n",
       "19                Arnhem           44      161368     Gelderland\n",
       "96              Enschede           39      159734     Overijssel\n",
       "14            Amersfoort           36      157279        Utrecht\n",
       "341             Zaanstad           71      156711  North Holland\n",
       "117       Haarlemmermeer           41      156039  North Holland\n",
       "0       's-Hertogenbosch           87      155113  North Brabant\n",
       "354               Zwolle           38      128831     Overijssel\n",
       "347           Zoetermeer           28      125283  South Holland\n",
       "169               Leiden           24      125174  South Holland\n",
       "168           Leeuwarden           29      124058      Friesland\n",
       "185           Maastricht          106      121558        Limburg\n",
       "80             Dordrecht           49      119300  South Holland\n",
       "88                   Ede           41      117166     Gelderland\n",
       "10   Alphen aan den Rijn           40      111889  South Holland\n",
       "329             Westland           36      110357  South Holland\n",
       "7                Alkmaar           35      109444  North Holland\n",
       "94                 Emmen            9      107055        Drenthe\n",
       "70                 Delft           27      103659  South Holland"
      ]
     },
     "execution_count": 79,
     "metadata": {},
     "output_type": "execute_result"
    }
   ],
   "source": [
    "df.sort_values(by='Population', ascending=False).head(30)"
   ]
  },
  {
   "cell_type": "code",
   "execution_count": 80,
   "metadata": {},
   "outputs": [
    {
     "data": {
      "text/html": [
       "<div>\n",
       "<style scoped>\n",
       "    .dataframe tbody tr th:only-of-type {\n",
       "        vertical-align: middle;\n",
       "    }\n",
       "\n",
       "    .dataframe tbody tr th {\n",
       "        vertical-align: top;\n",
       "    }\n",
       "\n",
       "    .dataframe thead th {\n",
       "        text-align: right;\n",
       "    }\n",
       "</style>\n",
       "<table border=\"1\" class=\"dataframe\">\n",
       "  <thead>\n",
       "    <tr style=\"text-align: right;\">\n",
       "      <th></th>\n",
       "      <th>Province</th>\n",
       "      <th>Case_Number</th>\n",
       "    </tr>\n",
       "  </thead>\n",
       "  <tbody>\n",
       "    <tr>\n",
       "      <td>6</td>\n",
       "      <td>North Brabant</td>\n",
       "      <td>1772</td>\n",
       "    </tr>\n",
       "    <tr>\n",
       "      <td>9</td>\n",
       "      <td>South Holland</td>\n",
       "      <td>1095</td>\n",
       "    </tr>\n",
       "    <tr>\n",
       "      <td>5</td>\n",
       "      <td>Limburg</td>\n",
       "      <td>1060</td>\n",
       "    </tr>\n",
       "    <tr>\n",
       "      <td>7</td>\n",
       "      <td>North Holland</td>\n",
       "      <td>995</td>\n",
       "    </tr>\n",
       "    <tr>\n",
       "      <td>3</td>\n",
       "      <td>Gelderland</td>\n",
       "      <td>788</td>\n",
       "    </tr>\n",
       "    <tr>\n",
       "      <td>10</td>\n",
       "      <td>Utrecht</td>\n",
       "      <td>506</td>\n",
       "    </tr>\n",
       "    <tr>\n",
       "      <td>8</td>\n",
       "      <td>Overijssel</td>\n",
       "      <td>368</td>\n",
       "    </tr>\n",
       "    <tr>\n",
       "      <td>1</td>\n",
       "      <td>Flevoland</td>\n",
       "      <td>154</td>\n",
       "    </tr>\n",
       "    <tr>\n",
       "      <td>11</td>\n",
       "      <td>Zeeland</td>\n",
       "      <td>104</td>\n",
       "    </tr>\n",
       "    <tr>\n",
       "      <td>2</td>\n",
       "      <td>Friesland</td>\n",
       "      <td>95</td>\n",
       "    </tr>\n",
       "    <tr>\n",
       "      <td>0</td>\n",
       "      <td>Drenthe</td>\n",
       "      <td>60</td>\n",
       "    </tr>\n",
       "    <tr>\n",
       "      <td>4</td>\n",
       "      <td>Groningen</td>\n",
       "      <td>51</td>\n",
       "    </tr>\n",
       "  </tbody>\n",
       "</table>\n",
       "</div>"
      ],
      "text/plain": [
       "         Province  Case_Number\n",
       "6   North Brabant         1772\n",
       "9   South Holland         1095\n",
       "5         Limburg         1060\n",
       "7   North Holland          995\n",
       "3      Gelderland          788\n",
       "10        Utrecht          506\n",
       "8      Overijssel          368\n",
       "1       Flevoland          154\n",
       "11        Zeeland          104\n",
       "2       Friesland           95\n",
       "0         Drenthe           60\n",
       "4       Groningen           51"
      ]
     },
     "execution_count": 80,
     "metadata": {},
     "output_type": "execute_result"
    }
   ],
   "source": [
    "result = df.groupby([\"Province\"])['Case_Number'].aggregate(np.sum).reset_index().sort_values('Case_Number', ascending=False)\n",
    "result\n"
   ]
  },
  {
   "cell_type": "code",
   "execution_count": 81,
   "metadata": {},
   "outputs": [
    {
     "data": {
      "text/plain": [
       "(array([   0.,  500., 1000., 1500., 2000., 2500.]),\n",
       " <a list of 6 Text xticklabel objects>)"
      ]
     },
     "execution_count": 81,
     "metadata": {},
     "output_type": "execute_result"
    },
    {
     "data": {
      "image/png": "[encoded data removed]",
      "text/plain": [
       "<Figure size 432x288 with 1 Axes>"
      ]
     },
     "metadata": {},
     "output_type": "display_data"
    }
   ],
   "source": [
    "import seaborn as sns\n",
    "sns.set(style=\"whitegrid\")\n",
    "ax = sns.barplot(y=df.Province, x=df.Case_Number, data=df, palette='rainbow', estimator=sum, order=result['Province'])\n",
    "ax.set(ylabel='Province Name', xlabel='Case Numbers', title='Covid-19 Cases by Provinces in the Netherlands')\n",
    "plt.xticks(rotation=0)"
   ]
  },
  {
   "cell_type": "code",
   "execution_count": 82,
   "metadata": {
    "scrolled": true
   },
   "outputs": [
    {
     "data": {
      "image/png": "[encoded data removed]",
      "text/plain": [
       "<Figure size 432x288 with 1 Axes>"
      ]
     },
     "metadata": {},
     "output_type": "display_data"
    }
   ],
   "source": [
    "sns.set(style=\"whitegrid\")\n",
    "\n",
    "total = float(len(result))\n",
    "g= sns.barplot(x=df.Province, y=df.Case_Number, data=df, palette='rainbow', estimator=lambda y: sum(y) / sum(df.Case_Number) * 100, order=result['Province'], ci=None)\n",
    "g.set(xlabel='Province Name', ylabel='Case Numbers', title='The Percentage of Covid-19 Cases by Provinces in the Netherlands')\n",
    "plt.xticks(rotation=85)\n",
    "ax=g\n",
    "for p in ax.patches:\n",
    "             ax.annotate(\"%.2f\" % p.get_height(), (p.get_x() + p.get_width() / 2., p.get_height()),\n",
    "                 ha='center', va='center', fontsize=11, color='gray', xytext=(0, 5),\n",
    "                 textcoords='offset points')\n",
    "_ = g.set_ylim(0,100) #To make space for the annotations"
   ]
  },
  {
   "cell_type": "code",
   "execution_count": 83,
   "metadata": {},
   "outputs": [],
   "source": [
    "#df.to_csv (r'C:\\Users\\dell\\Desktop\\NLP\\dataset.csv',  index = True, header=True)"
   ]
  },
  {
   "cell_type": "markdown",
   "metadata": {},
   "source": [
    "## PART VI  - FILTRATION BY MUNICIPALITIES"
   ]
  },
  {
   "cell_type": "code",
   "execution_count": 84,
   "metadata": {},
   "outputs": [],
   "source": [
    "#Cleaning the municipality names for any confusion or miswriting   \n",
    "df.Municipality=df.Municipality.str.lower()\n",
    "df.Municipality=df.Municipality.str.lstrip()\n",
    "df.Municipality=df.Municipality.str.replace(\"-\",\" \")\n",
    "df.Municipality=df.Municipality.str.replace(\"'\",\"\")\n",
    "df.Municipality=df.Municipality.str.replace(\"ú\",\"u\")\n",
    "df.Municipality=df.Municipality.str.replace(\"â\",\"a\")\n",
    "df.Municipality=df.Municipality.str.replace(\",\",\" \")"
   ]
  },
  {
   "cell_type": "code",
   "execution_count": 85,
   "metadata": {},
   "outputs": [],
   "source": [
    "#df.to_csv (r'C:\\Users\\dell\\Desktop\\NLP\\dataset.csv',  index = True, header=True)"
   ]
  },
  {
   "cell_type": "code",
   "execution_count": 86,
   "metadata": {},
   "outputs": [],
   "source": [
    "def matching():\n",
    "    \n",
    "    while True:\n",
    "        \n",
    "        #Elimination of confusion in the writing\n",
    "        input_loc = input(\"Pls, Write your municipality?   \")  \n",
    "        input_loc = input_loc.lower()\n",
    "        if '-' in input_loc:\n",
    "            input_loc = input_loc.replace(\"-\",\" \") \n",
    "        if \"'\" in input_loc:\n",
    "            input_loc = input_loc.replace(\"'\",\" \")\n",
    "        if 'ú'in input_loc:\n",
    "            input_loc = input_loc.replace(\"ú\",\"u\")\n",
    "        if \"â\" in input_loc:\n",
    "            input_loc = input_loc.replace(\"â\",\"a\")\n",
    "        if \",\" in input_loc:\n",
    "            input_loc = input_loc.replace(\",\",\" \")\n",
    "        input_loc = input_loc.lstrip()\n",
    "        input_loc = \" \".join(input_loc.split())\n",
    "\n",
    "        \n",
    "        #Matching including exceptions\n",
    "        if input_loc == 'den bosch':\n",
    "            search=df.Case_Number[df.Municipality==\"s hertogenbosch\"]\n",
    "            time.sleep(1)\n",
    "            print(f\"The latest total case number in {input_loc.title()} is  {search.to_string(header=False, index=False)}\")\n",
    "                \n",
    "        elif input_loc == 'den haag':\n",
    "            search=df.Case_Number[df.Municipality==\"s gravenhage\"]\n",
    "            time.sleep(1)\n",
    "            print(f\"The latest total case number in {input_loc.title()} is  {search.to_string(header=False, index=False)}\")\n",
    "        \n",
    "        elif input_loc == 'bergen':\n",
    "            bergen_input = input('For Bergen Limburg, please write Limburg, for Bergen Noord Holland, please write Noord Holland:    ')\n",
    "            bergen_input=bergen_input.lower()\n",
    "            bergen_input=bergen_input.lstrip()\n",
    "            bergen_input = \" \".join(bergen_input.split())\n",
    "\n",
    "            if bergen_input==\"limburg\":\n",
    "                search=df.Case_Number[df.Municipality==\"bergen (l.)\"]\n",
    "                print(f\"The latest total case number in {input_loc.title()} is  {search.to_string(header=False, index=False)}\")\n",
    "            \n",
    "            elif bergen_input=='noord holland':\n",
    "                search=df.Case_Number[df.Municipality==\"bergen (nh.)\"]\n",
    "                print(f\"The latest total case number in {input_loc.title()} is  {search.to_string(header=False, index=False)}\")\n",
    "            \n",
    "            else:\n",
    "                print('Not matched')\n",
    "                time.sleep(1)\n",
    "                matching()\n",
    "        \n",
    "        else:\n",
    "            search=df.Case_Number[df.Municipality==input_loc]\n",
    "            time.sleep(1)\n",
    "            print(f\"The latest total case number in {input_loc.title()} is  {search.to_string(header=False, index=False)}\")\n",
    "            \n",
    "        \n",
    "#matching()"
   ]
  }
 ],
 "metadata": {
  "kernelspec": {
   "display_name": "Python 3",
   "language": "python",
   "name": "python3"
  },
  "language_info": {
   "codemirror_mode": {
    "name": "ipython",
    "version": 3
   },
   "file_extension": ".py",
   "mimetype": "text/x-python",
   "name": "python",
   "nbconvert_exporter": "python",
   "pygments_lexer": "ipython3",
   "version": "3.7.3"
  }
 },
 "nbformat": 4,
 "nbformat_minor": 2
}
