{
 "cells": [
  {
   "cell_type": "markdown",
   "metadata": {},
   "source": [
    "### A STUDY ON COVID-19 CASES BY MUNICIPALITY IN THE NETHERLANDS ON THE REAL TIME RIVM.NL DATABASE (23/III)"
   ]
  },
  {
   "cell_type": "code",
   "execution_count": 1,
   "metadata": {},
   "outputs": [],
   "source": [
    "import pandas as pd\n",
    "import numpy as np\n",
    "import time\n",
    "import requests\n",
    "from lxml import html"
   ]
  },
  {
   "cell_type": "code",
   "execution_count": 2,
   "metadata": {},
   "outputs": [],
   "source": [
    "RIVM_URL = \"https://www.rivm.nl/coronavirus-kaart-van-nederland\"\n",
    "url = requests.get(RIVM_URL)\n",
    "web = html.fromstring(url.content)\n",
    "data = web.get_element_by_id(\"csvData\").text\n",
    "data = data.lstrip()\n",
    "\n",
    "dataset = data.split(\"\\n\")[1].split(\";\")[0]\n",
    "\n",
    "with open(\"dataset.csv\", \"w\", encoding=\"utf-8\") as f:\n",
    "    f.write(data)"
   ]
  },
  {
   "cell_type": "code",
   "execution_count": 3,
   "metadata": {},
   "outputs": [
    {
     "data": {
      "text/html": [
       "<div>\n",
       "<style scoped>\n",
       "    .dataframe tbody tr th:only-of-type {\n",
       "        vertical-align: middle;\n",
       "    }\n",
       "\n",
       "    .dataframe tbody tr th {\n",
       "        vertical-align: top;\n",
       "    }\n",
       "\n",
       "    .dataframe thead th {\n",
       "        text-align: right;\n",
       "    }\n",
       "</style>\n",
       "<table border=\"1\" class=\"dataframe\">\n",
       "  <thead>\n",
       "    <tr style=\"text-align: right;\">\n",
       "      <th></th>\n",
       "      <th>Municipality</th>\n",
       "      <th>Case_Number</th>\n",
       "    </tr>\n",
       "  </thead>\n",
       "  <tbody>\n",
       "    <tr>\n",
       "      <td>2</td>\n",
       "      <td>'s-Gravenhage</td>\n",
       "      <td>53</td>\n",
       "    </tr>\n",
       "    <tr>\n",
       "      <td>3</td>\n",
       "      <td>'s-Hertogenbosch</td>\n",
       "      <td>60</td>\n",
       "    </tr>\n",
       "    <tr>\n",
       "      <td>4</td>\n",
       "      <td>Aa en Hunze</td>\n",
       "      <td>1</td>\n",
       "    </tr>\n",
       "    <tr>\n",
       "      <td>5</td>\n",
       "      <td>Aalsmeer</td>\n",
       "      <td>8</td>\n",
       "    </tr>\n",
       "    <tr>\n",
       "      <td>6</td>\n",
       "      <td>Aalten</td>\n",
       "      <td>1</td>\n",
       "    </tr>\n",
       "  </tbody>\n",
       "</table>\n",
       "</div>"
      ],
      "text/plain": [
       "       Municipality Case_Number\n",
       "2     's-Gravenhage          53\n",
       "3  's-Hertogenbosch          60\n",
       "4       Aa en Hunze           1\n",
       "5          Aalsmeer           8\n",
       "6            Aalten           1"
      ]
     },
     "execution_count": 3,
     "metadata": {},
     "output_type": "execute_result"
    }
   ],
   "source": [
    "df=pd.read_csv(\"dataset.csv\", sep=\";\", header=None, index_col=None)\n",
    "df=df.drop(0)\n",
    "df=df.drop(1)\n",
    "headers=[\"Gemnr\",\"Municipality\",\"Case_Number\",\"Population\",\"1/100.000\",]\n",
    "df.columns=headers\n",
    "df=df.drop(df.columns[0], axis=1)\n",
    "df=df.drop(df.columns[3], axis=1)\n",
    "df=df.drop(df.columns[2], axis=1)\n",
    "\n",
    "df.head()"
   ]
  },
  {
   "cell_type": "code",
   "execution_count": 4,
   "metadata": {},
   "outputs": [
    {
     "data": {
      "text/html": [
       "<div>\n",
       "<style scoped>\n",
       "    .dataframe tbody tr th:only-of-type {\n",
       "        vertical-align: middle;\n",
       "    }\n",
       "\n",
       "    .dataframe tbody tr th {\n",
       "        vertical-align: top;\n",
       "    }\n",
       "\n",
       "    .dataframe thead th {\n",
       "        text-align: right;\n",
       "    }\n",
       "</style>\n",
       "<table border=\"1\" class=\"dataframe\">\n",
       "  <thead>\n",
       "    <tr style=\"text-align: right;\">\n",
       "      <th></th>\n",
       "      <th>Municipality</th>\n",
       "      <th>Case_Number</th>\n",
       "    </tr>\n",
       "  </thead>\n",
       "  <tbody>\n",
       "    <tr>\n",
       "      <td>352</td>\n",
       "      <td>Zundert</td>\n",
       "      <td>9</td>\n",
       "    </tr>\n",
       "    <tr>\n",
       "      <td>353</td>\n",
       "      <td>Zutphen</td>\n",
       "      <td>6</td>\n",
       "    </tr>\n",
       "    <tr>\n",
       "      <td>354</td>\n",
       "      <td>Zwartewaterland</td>\n",
       "      <td>19</td>\n",
       "    </tr>\n",
       "    <tr>\n",
       "      <td>355</td>\n",
       "      <td>Zwijndrecht</td>\n",
       "      <td>6</td>\n",
       "    </tr>\n",
       "    <tr>\n",
       "      <td>356</td>\n",
       "      <td>Zwolle</td>\n",
       "      <td>35</td>\n",
       "    </tr>\n",
       "  </tbody>\n",
       "</table>\n",
       "</div>"
      ],
      "text/plain": [
       "        Municipality Case_Number\n",
       "352          Zundert           9\n",
       "353          Zutphen           6\n",
       "354  Zwartewaterland          19\n",
       "355      Zwijndrecht           6\n",
       "356           Zwolle          35"
      ]
     },
     "execution_count": 4,
     "metadata": {},
     "output_type": "execute_result"
    }
   ],
   "source": [
    "df.tail()"
   ]
  },
  {
   "cell_type": "code",
   "execution_count": null,
   "metadata": {},
   "outputs": [],
   "source": [
    "def matching():\n",
    "    \n",
    "    while True:    \n",
    "        \n",
    "        Den_Bosch_other=\"'s-Hertogenbosch\" \n",
    "        Den_Bosch=\"Den Bosch\"\n",
    "        \n",
    "        Den_Haag_other=\"'s-Gravenhage\"\n",
    "        Den_Haag=\"Den Haag\"\n",
    "    \n",
    "        input_loc=input(\"Pls, Write your municipality?   \")  \n",
    "        \n",
    "        if input_loc == Den_Bosch:\n",
    "            search=df.Case_Number[df.Municipality==str(Den_Bosch_other)]\n",
    "            time.sleep(1)\n",
    "            print(f\"The latest total case number in {input_loc} is  {search.to_string(header=False, index=False)}\")\n",
    "                \n",
    "        elif input_loc == Den_Haag:\n",
    "        \n",
    "            search=df.Case_Number[df.Municipality==str(Den_Haag_other)]\n",
    "            time.sleep(1)\n",
    "            print(f\"The latest total case number in {input_loc} is  {search.to_string(header=False, index=False)}\")\n",
    "\n",
    "        else:\n",
    "            search=df.Case_Number[df.Municipality==str(input_loc)]\n",
    "            time.sleep(1)\n",
    "            print(f\"The latest total case number in {input_loc} is  {search.to_string(header=False, index=False)}\")\n",
    "            matching()\n",
    "        \n",
    "matching()"
   ]
  },
  {
   "cell_type": "code",
   "execution_count": null,
   "metadata": {},
   "outputs": [],
   "source": []
  }
 ],
 "metadata": {
  "kernelspec": {
   "display_name": "Python 3",
   "language": "python",
   "name": "python3"
  },
  "language_info": {
   "codemirror_mode": {
    "name": "ipython",
    "version": 3
   },
   "file_extension": ".py",
   "mimetype": "text/x-python",
   "name": "python",
   "nbconvert_exporter": "python",
   "pygments_lexer": "ipython3",
   "version": "3.7.3"
  }
 },
 "nbformat": 4,
 "nbformat_minor": 2
}
