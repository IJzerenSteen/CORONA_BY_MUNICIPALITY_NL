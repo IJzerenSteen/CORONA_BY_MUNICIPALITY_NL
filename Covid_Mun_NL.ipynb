{
 "cells": [
  {
   "cell_type": "markdown",
   "metadata": {},
   "source": [
    "### A STUDY ON COVID-19 CASES BY MUNICIPALITY IN THE NETHERLANDS ON RIVM.NL DATABASE (23/III)"
   ]
  },
  {
   "cell_type": "code",
   "execution_count": 23,
   "metadata": {},
   "outputs": [],
   "source": [
    "import pandas as pd\n",    
    "import numpy as np\n",
    "import time"
   ]
  },
  {
   "cell_type": "code",
   "execution_count": 24,
   "metadata": {},
   "outputs": [
    {
     "data": {
      "text/html": [
       "<div>\n",
       "<style scoped>\n",
       "    .dataframe tbody tr th:only-of-type {\n",
       "        vertical-align: middle;\n",
       "    }\n",
       "\n",
       "    .dataframe tbody tr th {\n",
       "        vertical-align: top;\n",
       "    }\n",
       "\n",
       "    .dataframe thead th {\n",
       "        text-align: right;\n",
       "    }\n",
       "</style>\n",
       "<table border=\"1\" class=\"dataframe\">\n",
       "  <thead>\n",
       "    <tr style=\"text-align: right;\">\n",
       "      <th></th>\n",
       "      <th>Place</th>\n",
       "      <th>Cases</th>\n",
       "    </tr>\n",
       "  </thead>\n",
       "  <tbody>\n",
       "    <tr>\n",
       "      <td>1</td>\n",
       "      <td>'s-Gravenhage</td>\n",
       "      <td>47</td>\n",
       "    </tr>\n",
       "    <tr>\n",
       "      <td>2</td>\n",
       "      <td>'s-Hertogenbosch</td>\n",
       "      <td>55</td>\n",
       "    </tr>\n",
       "    <tr>\n",
       "      <td>3</td>\n",
       "      <td>Aa en Hunze</td>\n",
       "      <td>1</td>\n",
       "    </tr>\n",
       "    <tr>\n",
       "      <td>4</td>\n",
       "      <td>Aalsmeer</td>\n",
       "      <td>7</td>\n",
       "    </tr>\n",
       "    <tr>\n",
       "      <td>5</td>\n",
       "      <td>Aalten</td>\n",
       "      <td>1</td>\n",
       "    </tr>\n",
       "  </tbody>\n",
       "</table>\n",
       "</div>"
      ],
      "text/plain": [
       "              Place Cases\n",
       "1     's-Gravenhage    47\n",
       "2  's-Hertogenbosch    55\n",
       "3       Aa en Hunze     1\n",
       "4          Aalsmeer     7\n",
       "5            Aalten     1"
      ]
     },
     "execution_count": 24,
     "metadata": {},
     "output_type": "execute_result"
    }
   ],
   "source": [
    "df=pd.read_csv(\"Covid_Mun_NL.csv\", sep=\";\", header=None, index_col=None)\n",
    "df=df.drop(0)\n",
    "headers=[\"Place\",\"1/100.000\",\"Cases\"]\n",
    "df.columns=headers\n",
    "df=df.drop(df.columns[1], axis=1)\n",
    "df.head()"
   ]
  },
  {
   "cell_type": "code",
   "execution_count": null,
   "metadata": {},
   "outputs": [
    {
     "name": "stdout",
     "output_type": "stream",
     "text": [
      "Pls, Write your municipality?   Cranendonck\n",
      "The latest total case number is  13 in Cranendonck\n"
     ]
    }
   ],
   "source": [
    "def matching():\n",
    "    \n",
    "    while True:    \n",
    "        \n",
    "        Den_Bosch_other=\"'s-Hertogenbosch\" \n",
    "        Den_Bosch=\"Den Bosch\"\n",
    "        \n",
    "        Den_Haag_other=\"'s-Gravenhage\"\n",
    "        Den_Haag=\"Den Haag\"\n",
    "    \n",
    "        input_loc=input(\"Pls, Write your municipality?   \")  \n",
    "        \n",
    "        if input_loc == Den_Bosch:\n",
    "            search=df.Cases[df.Place==str(Den_Bosch_other)]\n",
    "            time.sleep(1)\n",
    "            print(f\"The latest total case number is {search.to_string(header=False, index=False)} in {input_loc}\")\n",
    "                \n",
    "        elif input_loc == Den_Haag:\n",
    "        \n",
    "            search=df.Cases[df.Place==str(Den_Haag_other)]\n",
    "            time.sleep(1)\n",
    "            print(f\"The latest total case number is {search.to_string(header=False, index=False)} in {input_loc}\")\n",
    "\n",
    "        else:\n",
    "            search=df.Cases[df.Place==str(input_loc)]\n",
    "            time.sleep(1)\n",
    "            print(f\"The latest total case number is {search.to_string(header=False, index=False)} in {input_loc}\")\n",
    "            matching()\n",
    "        \n",
    "matching()"
   ]
  },
  {
   "cell_type": "code",
   "execution_count": null,
   "metadata": {},
   "outputs": [],
   "source": []
  }
 ],
 "metadata": {
  "kernelspec": {
   "display_name": "Python 3",
   "language": "python",
   "name": "python3"
  },
  "language_info": {
   "codemirror_mode": {
    "name": "ipython",
    "version": 3
   },
   "file_extension": ".py",
   "mimetype": "text/x-python",
   "name": "python",
   "nbconvert_exporter": "python",
   "pygments_lexer": "ipython3",
   "version": "3.7.3"
  }
 },
 "nbformat": 4,
 "nbformat_minor": 2
}
